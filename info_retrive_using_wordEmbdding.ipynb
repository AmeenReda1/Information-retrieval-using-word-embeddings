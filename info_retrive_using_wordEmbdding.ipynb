{
  "nbformat": 4,
  "nbformat_minor": 0,
  "metadata": {
    "colab": {
      "name": "info_retrive_using_wordEmbdding.ipynb",
      "provenance": [],
      "mount_file_id": "1DxHkZlOmv_Z4heX-fF_3vY0xk9wbOlqj",
      "authorship_tag": "ABX9TyOgMxK08GVYnXwsBWyyyGld",
      "include_colab_link": true
    },
    "kernelspec": {
      "name": "python3",
      "display_name": "Python 3"
    },
    "language_info": {
      "name": "python"
    }
  },
  "cells": [
    {
      "cell_type": "markdown",
      "metadata": {
        "id": "view-in-github",
        "colab_type": "text"
      },
      "source": [
        "<a href=\"https://colab.research.google.com/github/AmeenReda1/Information-retrieval-using-word-embeddings/blob/main/info_retrive_using_wordEmbdding.ipynb\" target=\"_parent\"><img src=\"https://colab.research.google.com/assets/colab-badge.svg\" alt=\"Open In Colab\"/></a>"
      ]
    },
    {
      "cell_type": "code",
      "metadata": {
        "colab": {
          "base_uri": "https://localhost:8080/"
        },
        "id": "1GNcOJL11VWr",
        "outputId": "f5f9b34f-ead5-4b7b-c45f-ec92ad1469c9"
      },
      "source": [
        "import gensim\n",
        "from gensim.models import Word2Vec\n",
        "import numpy as np\n",
        "import nltk\n",
        "nltk.download('stopwords')\n",
        "import itertools\n",
        "from nltk.corpus import stopwords\n",
        "from nltk.tokenize import sent_tokenize, word_tokenize\n",
        "import scipy\n",
        "from scipy import spatial\n",
        "from nltk.tokenize.toktok import ToktokTokenizer\n",
        "import re"
      ],
      "execution_count": null,
      "outputs": [
        {
          "output_type": "stream",
          "name": "stdout",
          "text": [
            "[nltk_data] Downloading package stopwords to /root/nltk_data...\n",
            "[nltk_data]   Unzipping corpora/stopwords.zip.\n"
          ]
        }
      ]
    },
    {
      "cell_type": "code",
      "metadata": {
        "id": "eEvMwiHi1aKT"
      },
      "source": [
        "tokenizer = ToktokTokenizer()\n",
        "\n",
        "stopword_list = nltk.corpus.stopwords.words('english')\n"
      ],
      "execution_count": null,
      "outputs": []
    },
    {
      "cell_type": "code",
      "metadata": {
        "id": "dNDKecaD1dHE"
      },
      "source": [
        "Doc1 = [\"With the Union cabinet approving the amendments to the Motor Vehicles Act, 2016, those caught for drunken driving will have to have really deep pockets, as the fine payable in court has been enhanced to Rs 10,000 for first-time offenders.\" ]\n",
        "Doc2 = [\"Natural language processing (NLP) is an area of computer science and artificial intelligence concerned with the interactions between computers and human (natural) languages, in particular how to program computers to process and analyze large amounts of natural language data.\"]\n",
        "Doc3 = [\"He points out that public transport is very good in Mumbai and New Delhi, where there is a good network of suburban and metro rail systems.\"]\n",
        "Doc4 = [\"But the man behind the wickets at the other end was watching just as keenly. With an affirmative nod from Dhoni, India captain Rohit Sharma promptly asked for a review. Sure enough, the ball would have clipped the top of middle and leg.\"]\n",
        "# Put all the documents in one list\n",
        "fin= Doc1+Doc2+Doc3+Doc4"
      ],
      "execution_count": null,
      "outputs": []
    },
    {
      "cell_type": "code",
      "metadata": {
        "id": "8wxo3b5u1h4w"
      },
      "source": [
        "#load the model\n",
        "model = gensim.models.KeyedVectors.load_word2vec_format('/GoogleNews-vectors-negative300.bin', binary=True)\n",
        "def remove_stopwords(text, is_lower_case=False):\n",
        "    pattern = r'[^a-zA-z0-9\\s]'\n",
        "    text = re.sub(pattern,'',text)\n",
        "    tokens = tokenizer.tokenize(text)\n",
        "    tokens = [token.strip() for token in tokens]\n",
        "    if is_lower_case:\n",
        "        filtered_tokens = [token for token in tokens if token \n",
        "                        not in stopword_list]\n",
        "    else:\n",
        "        filtered_tokens = [token.lower() for token in tokens if token.lower() not in stopword_list]\n",
        "        filtered_text = ' '.join(filtered_tokens)\n",
        "    return filtered_text"
      ],
      "execution_count": null,
      "outputs": []
    },
    {
      "cell_type": "code",
      "metadata": {
        "id": "cFJPMTn-1kJ2"
      },
      "source": [
        "def get_embedding(word):\n",
        "    if word in model:\n",
        "        return model[word]\n",
        "    else:\n",
        "        return np.zeros(300)    \n",
        "print('hello')"
      ],
      "execution_count": null,
      "outputs": []
    },
    {
      "cell_type": "code",
      "metadata": {
        "id": "SxK_DsIu1npk"
      },
      "source": [
        "# Getting average vector for each document\n",
        "out_dict = {}\n",
        "\n",
        "for sen in fin:\n",
        "    average_vector = (np.mean(np.array([get_embedding(x) for x in nltk.word_tokenize(remove_stopwords(sen))]), axis=0))\n",
        "    dic = { sen : (average_vector) }\n",
        "    out_dict.update(dic)"
      ],
      "execution_count": null,
      "outputs": []
    },
    {
      "cell_type": "code",
      "metadata": {
        "id": "-dxxhDoe1pzk"
      },
      "source": [
        "# Function to calculate the similarity between the query vector and document vector\n",
        "def get_sim(query_embedding, average_vector_doc):\n",
        "    sim = [(1 - scipy.spatial.distance.cosine(query_embedding,average_vector_doc))]\n",
        "    return sim"
      ],
      "execution_count": null,
      "outputs": []
    },
    {
      "cell_type": "code",
      "metadata": {
        "id": "_-mx9EHu1ryx"
      },
      "source": [
        "# Rank all the documents based on the similarity to get relevant docs\n",
        "def Ranked_documents(query):\n",
        "    query_words = (np.mean(np.array([get_embedding(x) for x in nltk.word_tokenize(query.lower())],dtype=float), axis=0))\n",
        "    rank = []\n",
        "    for k,v in out_dict.items():\n",
        "        rank.append((k, get_sim(query_words, v)))\n",
        "        rank = sorted(rank,key=lambda t: t[1], reverse=True)\n",
        "        print('Ranked Documents :')\n",
        "    return rank"
      ],
      "execution_count": null,
      "outputs": []
    }
  ]
}